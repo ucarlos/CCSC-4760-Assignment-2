{
 "cells": [
  {
   "cell_type": "code",
   "execution_count": 5,
   "metadata": {},
   "outputs": [
    {
     "name": "stdout",
     "output_type": "stream",
     "text": [
      "Total size of Users.xml : 66954\n",
      "\n",
      "The total amount of users created in 2017 is 14239\n"
     ]
    }
   ],
   "source": [
    "################################################################################\n",
    "# \n",
    "# Ulysses Carlos 09/25/2019\n",
    "# Problem 02\n",
    "#\n",
    "# Using the Users.xml file, provide the count for all users which joined \n",
    "# (CreationDate) in 2017. (30 points). Output this to the screen.\n",
    "################################################################################\n",
    "\n",
    "\n",
    "sc.stop()\n",
    "from pyspark import SparkConf, SparkContext\n",
    "conf = SparkConf().setMaster(\"local\").setAppName(\"My App\")\n",
    "sc = SparkContext(conf = conf)\n",
    "\n",
    "lines = sc.textFile(\"Users.xml\")\n",
    "\n",
    "#filter_01 = lines.filter(lambda line : \"=\\\"2017-\" in line)\n",
    "filter_01 = lines.filter(lambda line : \"CreationDate=\\\"2017\" in line)\n",
    "filter_01.collect()\n",
    "\n",
    "print (\"Total size of Users.xml : \" + str(lines.count()) + \"\\n\")\n",
    "print (\"The total amount of users created in 2017 is \" + str(filter_01.count()))\n",
    "\n"
   ]
  },
  {
   "cell_type": "code",
   "execution_count": null,
   "metadata": {},
   "outputs": [],
   "source": []
  }
 ],
 "metadata": {
  "kernelspec": {
   "display_name": "Python 3",
   "language": "python",
   "name": "python3"
  },
  "language_info": {
   "codemirror_mode": {
    "name": "ipython",
    "version": 3
   },
   "file_extension": ".py",
   "mimetype": "text/x-python",
   "name": "python",
   "nbconvert_exporter": "python",
   "pygments_lexer": "ipython3",
   "version": "3.6.8"
  }
 },
 "nbformat": 4,
 "nbformat_minor": 2
}
