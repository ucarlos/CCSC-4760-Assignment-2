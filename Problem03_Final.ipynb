{
 "cells": [
  {
   "cell_type": "code",
   "execution_count": 26,
   "metadata": {},
   "outputs": [
    {
     "name": "stdout",
     "output_type": "stream",
     "text": [
      "Lines in XML file: 121525\n",
      "Lines that contain the word \"Spark\" : 1341\n",
      "Lines that contain the word \"Scala\" : 968\n",
      "The number of posts that feature the words \"Spark\" or \"Scala\" is 2098.\n",
      "\n"
     ]
    }
   ],
   "source": [
    "################################################################################\n",
    "#\n",
    "# Ulysses Carlos -- 09/25/2019\n",
    "# Problem 03\n",
    "# Using the PostHistory file, count the number of Posts that feature the words \n",
    "# Spark” and Scala”. Output this to the screen. (20 points)\n",
    "#\n",
    "################################################################################\n",
    "\n",
    "import re\n",
    "\n",
    "# Stop SparkContext \n",
    "sc.stop()\n",
    "from pyspark import SparkConf, SparkContext\n",
    "conf = SparkConf().setMaster(\"local\").setAppName(\"My App\")\n",
    "sc = SparkContext(conf = conf)\n",
    "\n",
    "\n",
    "xml_file = sc.textFile(\"PostHistory.xml\")\n",
    "\n",
    "file_count = xml_file.count()\n",
    "print (\"Lines in XML file: \" + str(file_count))\n",
    "\n",
    "#Define function:\n",
    "def apply_regex(regex1, line):\n",
    "    test1 = re.search(regex1, line, re.IGNORECASE)   \n",
    "    if test1:\n",
    "        return str(line)\n",
    "    else:\n",
    "        return str(\"<USER>\")\n",
    "\n",
    "    \n",
    "#End \n",
    "\n",
    "test_spark = xml_file.map(lambda line : apply_regex(\"spark\", str(line)) )\n",
    "\n",
    "\n",
    "\n",
    "test_scala = xml_file.map(lambda line : apply_regex(\"scala\", str(line)))\n",
    "\n",
    "#Expensive process\n",
    "filter_out = test_spark.filter(lambda line: \"<USER>\" in line)\n",
    "test_spark = test_spark.subtract(filter_out)\n",
    "print (\"Lines that contain the word \\\"Spark\\\" : \" + str(test_spark.count()))\n",
    "\n",
    "filter_out = test_scala.filter(lambda line: \"<USER>\" in line)\n",
    "test_scala = test_scala.subtract(filter_out)\n",
    "print (\"Lines that contain the word \\\"Scala\\\" : \" + str(test_scala.count()))\n",
    "\n",
    "\n",
    "\n",
    "end = test_spark.union(test_scala)\n",
    "end = end.distinct()\n",
    "\n",
    "print (\"The number of posts that feature the words \\\"Spark\\\" or \\\"Scala\\\" is \" + str(end.count()) + \".\\n\")\n",
    "\n",
    "\n"
   ]
  },
  {
   "cell_type": "code",
   "execution_count": null,
   "metadata": {},
   "outputs": [],
   "source": []
  },
  {
   "cell_type": "code",
   "execution_count": null,
   "metadata": {},
   "outputs": [],
   "source": []
  }
 ],
 "metadata": {
  "kernelspec": {
   "display_name": "Python 3",
   "language": "python",
   "name": "python3"
  },
  "language_info": {
   "codemirror_mode": {
    "name": "ipython",
    "version": 3
   },
   "file_extension": ".py",
   "mimetype": "text/x-python",
   "name": "python",
   "nbconvert_exporter": "python",
   "pygments_lexer": "ipython3",
   "version": "3.6.8"
  }
 },
 "nbformat": 4,
 "nbformat_minor": 2
}
