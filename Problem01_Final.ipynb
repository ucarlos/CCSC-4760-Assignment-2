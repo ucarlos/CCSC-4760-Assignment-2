{
 "cells": [
  {
   "cell_type": "code",
   "execution_count": 6,
   "metadata": {},
   "outputs": [
    {
     "name": "stdout",
     "output_type": "stream",
     "text": [
      "Database line count: 66954\n",
      "Size of regex filter: 139\n",
      "\n",
      "The List of Users from Georgia is as follows:\n",
      "\n",
      "['DisplayName=\"Nick Larsen\" ', 'DisplayName=\"Michael\" ', 'DisplayName=\"azoorob\" ', 'DisplayName=\"ilya\" ', 'DisplayName=\"tempusfugit\" ', 'DisplayName=\"Peter Woolfitt\" ', 'DisplayName=\"YC Hu\" ', 'DisplayName=\"Patrick Gerbes\" ', 'DisplayName=\"Ilya Lapitan\" ', 'DisplayName=\"Teresa Madsen\" ', 'DisplayName=\"Brandon\" ', 'DisplayName=\"Mr. Rooter of Savannah\" ', 'DisplayName=\"Mr. Rooter of Southeast GA\" ', 'DisplayName=\"Khiem Ha\" ', 'DisplayName=\"Mac18\" ', 'DisplayName=\"Tarun Luthra\" ', 'DisplayName=\"Todd Dawson\" ', 'DisplayName=\"David F\" ', 'DisplayName=\"PSInf\" ', 'DisplayName=\"Chirag\" ', 'DisplayName=\"hellofanengineer\" ', 'DisplayName=\"Oriol Mirosa\" ', 'DisplayName=\"David\" ', 'DisplayName=\"Vincent\" ', 'DisplayName=\"cbarrick\" ', 'DisplayName=\"Len Greski\" ', 'DisplayName=\"PEBKAC\" ', 'DisplayName=\"Bryce\" ', 'DisplayName=\"donlan\" ', 'DisplayName=\"BarclayK\" ', 'DisplayName=\"dportman\" ', 'DisplayName=\"Shishir Suman\" ', 'DisplayName=\"Scott\" ', 'DisplayName=\"JessicaRabi\" ', 'DisplayName=\"wgreenihrcorp\" ', 'DisplayName=\"zongyan\" ', 'DisplayName=\"Alexandre\" ', 'DisplayName=\"Erica Rosa\" ', 'DisplayName=\"empoleon\" ', 'DisplayName=\"Deepak Shenoy\" ', 'DisplayName=\"Ragnar Lothbrok\" ', 'DisplayName=\"Deontaé Le Pew\" ', 'DisplayName=\"Doctorambient\" ', 'DisplayName=\"Vidya\" ', 'DisplayName=\"Vatsal Srivastava\" ', 'DisplayName=\"Dean Webb\" ', 'DisplayName=\"wayne green\" ', 'DisplayName=\"Floydian\" ', 'DisplayName=\"Manikanta Reddy D\" ', 'DisplayName=\"devarsh raghnathbhai patel\" ', 'DisplayName=\"rmooney\" ', 'DisplayName=\"mike_stevs\" ', 'DisplayName=\"Gary Lai\" ', 'DisplayName=\"Daniel\" ', 'DisplayName=\"phos\" ', 'DisplayName=\"Lance Ruo Zhang\" ', 'DisplayName=\"Spencer-Price\" ', 'DisplayName=\"Stephen Ewing\" ', 'DisplayName=\"addi wei\" ', 'DisplayName=\"Alex V\" ', 'DisplayName=\"Rob\" ', 'DisplayName=\"Ram\" ', 'DisplayName=\"jGaboardi\" ', 'DisplayName=\"ps0604\" ', 'DisplayName=\"Tiji Mathew\" ', 'DisplayName=\"Tony Boyles\" ', 'DisplayName=\"pkerl\" ', 'DisplayName=\"gfritz\" ', 'DisplayName=\"Aleksandr Blekh\" ', 'DisplayName=\"ontek\" ', 'DisplayName=\"Aravind R. Yarram\" ', 'DisplayName=\"Henry Crutcher\" ', 'DisplayName=\"Goddard\" ', 'DisplayName=\"Matt Simpson\" ', 'DisplayName=\"matt biskup\" ', 'DisplayName=\"Jason W\" ', 'DisplayName=\"Peter Mourfield\" ', 'DisplayName=\"Magsol\" ', 'DisplayName=\"Bob Baxley\" ', 'DisplayName=\"badjr\" ', 'DisplayName=\"mplunney\" ', 'DisplayName=\"ryan\" ', 'DisplayName=\"pradyumnad\" ', 'DisplayName=\"Psidom\" ', 'DisplayName=\"jpm\" ', 'DisplayName=\"Ahmet Cecen\" ', 'DisplayName=\"Guy Gordon\" ', 'DisplayName=\"C3Theo\" ', 'DisplayName=\"niru dyogi\" ', 'DisplayName=\"Vinitha Palani\" ', 'DisplayName=\"Andrew\" ', 'DisplayName=\"Aditya Gogoi\" ', 'DisplayName=\"turtlemonvh\" ', 'DisplayName=\"Lewis Rodgers\" ', 'DisplayName=\"Devendra Lattu\" ', 'DisplayName=\"cosmosa\" ', 'DisplayName=\"Mboolean\" ', 'DisplayName=\"Jimd\" ', 'DisplayName=\"Sandeep Gunda\" ', 'DisplayName=\"Will Gao\" ', 'DisplayName=\"Andrew King\" ', 'DisplayName=\"rajb245\" ', 'DisplayName=\"Sealander\" ', 'DisplayName=\"afshin\" ', 'DisplayName=\"Ashish Powani\" ', 'DisplayName=\"Boris N.\" ', 'DisplayName=\"Atul Kaushik\" ', 'DisplayName=\"Harnoor Singh\" ', 'DisplayName=\"Tiago Cogumbreiro\" ', 'DisplayName=\"red_eight\" ', 'DisplayName=\"Christoph\" ', 'DisplayName=\"David Hofmann\" ', 'DisplayName=\"nburn42\" ', 'DisplayName=\"Nick M\" ', 'DisplayName=\"Kiran\" ', 'DisplayName=\"Zer0k\" ', 'DisplayName=\"Baxter\" ', 'DisplayName=\"Rama Ananda\" ', 'DisplayName=\"Dr. Strange\" ', 'DisplayName=\"Shahan M\" ', 'DisplayName=\"rams\" ', 'DisplayName=\"John Barbour\" ', 'DisplayName=\"The_Flin\" ', 'DisplayName=\"DaulPavid\" ', 'DisplayName=\"Amandeep Jiddewar\" ', 'DisplayName=\"user1410665\" ', 'DisplayName=\"Willie-G\" ', 'DisplayName=\"Sam Washburn\" ', 'DisplayName=\"Loisaida Sam Sandberg\" ', 'DisplayName=\"gnorman\" ', 'DisplayName=\"Meng Zhao\" ', 'DisplayName=\"Myron Slaw\" ', 'DisplayName=\"ajroot\" ', 'DisplayName=\"zachdj\" ', 'DisplayName=\"David Zhou\" ', 'DisplayName=\"treysp\" ', 'DisplayName=\"Eduardo Trunci\" ', 'DisplayName=\"Squ1rr3lz\" ', 'DisplayName=\"user3776637\" ']\n"
     ]
    }
   ],
   "source": [
    "################################################################################\n",
    "#\n",
    "# Ulysses Carlos 09/23/2019\n",
    "# Problem 1:\n",
    "# From the Users.xml file, find all users which are from Georgia and output to \n",
    "# screen their DisplayName only. (20 points)\n",
    "#\n",
    "################################################################################\n",
    "\n",
    "\n",
    "import re\n",
    "\n",
    "sc.stop()\n",
    "from pyspark import SparkConf, SparkContext\n",
    "conf = SparkConf().setMaster(\"local\").setAppName(\"My App\")\n",
    "sc = SparkContext(conf = conf)\n",
    "\n",
    "\n",
    "\n",
    "# Store the contents of the file into a rdd\n",
    "lines = sc.textFile(\"Users.xml\");\n",
    "\n",
    "\n",
    "\n",
    "# Filter through GA or Georgia\n",
    "# Regex Expression Location=[\\\"]\\w+, GA,* \n",
    "\n",
    "#Define function \n",
    "def apply_regex(regex, line):\n",
    "    x = re.search(\"Location=[\\\"]\\w+, GA,*\", line)\n",
    "    if (x):\n",
    "        return str(line)\n",
    "    else:\n",
    "        return str(\"<USER IS NOT FROM GEORGIA>\")\n",
    "\n",
    "    \n",
    "    \n",
    "#end \n",
    "\n",
    "print (\"Database line count: \" + str(lines.count()))\n",
    "pattern = \"Location=[\\\"]\\w+, GA,*\"\n",
    "filter_01 = lines.map(lambda line : apply_regex(pattern, str(line)))\n",
    "\n",
    "# Now remove all Non-Georgian Locations\n",
    "filter_out = filter_01.filter(lambda line : \"<USER IS NOT FROM GEORGIA>\" in line)\n",
    "\n",
    "filter_02 = filter_01.subtract(filter_out)\n",
    "\n",
    "print (\"Size of regex filter: \" + str(filter_02.count()) + \"\\n\")\n",
    "\n",
    "# Define Function\n",
    "def print_name(line):\n",
    "    low = line.rfind(\"DisplayName\")\n",
    "    high = line.rfind(\"LastAccessDate\")\n",
    "    \n",
    "    if low != -1 and high != -1:\n",
    "        substring = line[low : high]\n",
    "        return substring\n",
    "            \n",
    "#end \n",
    "       \n",
    "end = filter_02.map(lambda line : print_name(line))\n",
    "print (\"The List of Users from Georgia is as follows:\\n\")\n",
    "print (end.take(end.count()))\n",
    "\n"
   ]
  },
  {
   "cell_type": "code",
   "execution_count": null,
   "metadata": {},
   "outputs": [],
   "source": []
  }
 ],
 "metadata": {
  "kernelspec": {
   "display_name": "Python 3",
   "language": "python",
   "name": "python3"
  },
  "language_info": {
   "codemirror_mode": {
    "name": "ipython",
    "version": 3
   },
   "file_extension": ".py",
   "mimetype": "text/x-python",
   "name": "python",
   "nbconvert_exporter": "python",
   "pygments_lexer": "ipython3",
   "version": "3.6.8"
  }
 },
 "nbformat": 4,
 "nbformat_minor": 2
}
